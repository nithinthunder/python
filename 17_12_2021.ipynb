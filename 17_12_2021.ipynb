{
  "nbformat": 4,
  "nbformat_minor": 0,
  "metadata": {
    "colab": {
      "name": "17\\12\\2021.ipynb",
      "provenance": [],
      "authorship_tag": "ABX9TyMBpGVkkq2Ox3uLVLHQ0/hU",
      "include_colab_link": true
    },
    "kernelspec": {
      "name": "python3",
      "display_name": "Python 3"
    },
    "language_info": {
      "name": "python"
    }
  },
  "cells": [
    {
      "cell_type": "markdown",
      "metadata": {
        "id": "view-in-github",
        "colab_type": "text"
      },
      "source": [
        "<a href=\"https://colab.research.google.com/github/nithinthunder/python/blob/main/17_12_2021.ipynb\" target=\"_parent\"><img src=\"https://colab.research.google.com/assets/colab-badge.svg\" alt=\"Open In Colab\"/></a>"
      ]
    },
    {
      "cell_type": "code",
      "execution_count": 11,
      "metadata": {
        "colab": {
          "base_uri": "https://localhost:8080/"
        },
        "id": "9EDfo-zWC96V",
        "outputId": "3eafd541-370a-4ee1-b040-6206e8867da9"
      },
      "outputs": [
        {
          "output_type": "stream",
          "name": "stdout",
          "text": [
            "SIMPLE CALCULATOR\n",
            "......\n",
            "enter the value of A2\n",
            "enter the value of B4\n",
            "2 + 4 = 6\n",
            "2 - 4 = -2\n",
            "2 * 4 = 8\n",
            "2 / 4 = 0.5\n",
            "2 % 4 = 2\n"
          ]
        }
      ],
      "source": [
        "print(\"SIMPLE CALCULATOR\")\n",
        "print(\"......\")\n",
        "A=int(input(\"enter the value of A\"))\n",
        "B=int(input(\"enter the value of B\"))\n",
        "\n",
        "Add=A+B\n",
        "Sub=A-B\n",
        "Mul=A*B\n",
        "Div=A/B\n",
        "Mod=A%B\n",
        "print(A,\"+\",B,\"=\",Add)\n",
        "print(A,\"-\",B,\"=\",Sub)\n",
        "print(A,\"*\",B,\"=\",Mul)\n",
        "print(A,\"/\",B,\"=\",Div)\n",
        "print(A,\"%\",B,\"=\",Mod)\n"
      ]
    },
    {
      "cell_type": "code",
      "source": [
        ""
      ],
      "metadata": {
        "id": "3tvOuR9eOFoK"
      },
      "execution_count": null,
      "outputs": []
    }
  ]
}