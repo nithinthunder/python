{
  "nbformat": 4,
  "nbformat_minor": 0,
  "metadata": {
    "colab": {
      "name": "Untitled0.ipynb",
      "provenance": [],
      "authorship_tag": "ABX9TyNs2qlwrLOTuYMz9C0zHhS3",
      "include_colab_link": true
    },
    "kernelspec": {
      "name": "python3",
      "display_name": "Python 3"
    },
    "language_info": {
      "name": "python"
    }
  },
  "cells": [
    {
      "cell_type": "markdown",
      "metadata": {
        "id": "view-in-github",
        "colab_type": "text"
      },
      "source": [
        "<a href=\"https://colab.research.google.com/github/nithinthunder/python/blob/main/Untitled0.ipynb\" target=\"_parent\"><img src=\"https://colab.research.google.com/assets/colab-badge.svg\" alt=\"Open In Colab\"/></a>"
      ]
    },
    {
      "cell_type": "code",
      "execution_count": 1,
      "metadata": {
        "colab": {
          "base_uri": "https://localhost:8080/"
        },
        "id": "TYa3FUF-B505",
        "outputId": "b04227df-ab6d-430d-e507-74cc2f445e0e"
      },
      "outputs": [
        {
          "output_type": "stream",
          "name": "stdout",
          "text": [
            "Enter your first number: 678\n",
            "Enter your second number: 232\n",
            "678 + 232 = \n",
            "910\n",
            "678 - 232 = \n",
            "446\n",
            "678 * 232 = \n",
            "157296\n",
            "678 / 232 = \n",
            "2.9224137931034484\n"
          ]
        }
      ],
      "source": [
        "number_1 = int(input('Enter your first number: '))\n",
        "number_2 = int(input('Enter your second number: '))\n",
        "\n",
        "# Addition\n",
        "print('{} + {} = '.format(number_1, number_2))\n",
        "print(number_1 + number_2)\n",
        "\n",
        "# Subtraction\n",
        "print('{} - {} = '.format(number_1, number_2))\n",
        "print(number_1 - number_2)\n",
        "\n",
        "# Multiplication\n",
        "print('{} * {} = '.format(number_1, number_2))\n",
        "print(number_1 * number_2)\n",
        "\n",
        "# Division\n",
        "print('{} / {} = '.format(number_1, number_2))\n",
        "print(number_1 / number_2)"
      ]
    }
  ]
}