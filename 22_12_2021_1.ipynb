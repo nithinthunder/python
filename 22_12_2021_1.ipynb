{
  "nbformat": 4,
  "nbformat_minor": 0,
  "metadata": {
    "colab": {
      "name": "22/12/2021*1.ipynb",
      "provenance": [],
      "toc_visible": true,
      "authorship_tag": "ABX9TyN5V6eAVpj2zMtWlaxc1PIJ",
      "include_colab_link": true
    },
    "kernelspec": {
      "name": "python3",
      "display_name": "Python 3"
    },
    "language_info": {
      "name": "python"
    }
  },
  "cells": [
    {
      "cell_type": "markdown",
      "metadata": {
        "id": "view-in-github",
        "colab_type": "text"
      },
      "source": [
        "<a href=\"https://colab.research.google.com/github/nithinthunder/python/blob/main/22_12_2021_1.ipynb\" target=\"_parent\"><img src=\"https://colab.research.google.com/assets/colab-badge.svg\" alt=\"Open In Colab\"/></a>"
      ]
    },
    {
      "cell_type": "code",
      "execution_count": 5,
      "metadata": {
        "colab": {
          "base_uri": "https://localhost:8080/"
        },
        "id": "xf42-VkdB1qx",
        "outputId": "9c4e6403-8ce1-4687-8f9d-1de21ede5478"
      },
      "outputs": [
        {
          "output_type": "stream",
          "name": "stdout",
          "text": [
            "enter the n terms90\n",
            "1 + = 1\n",
            "2 + = 3\n",
            "3 + = 6\n",
            "4 + = 10\n",
            "5 + = 15\n",
            "6 + = 21\n",
            "7 + = 28\n",
            "8 + = 36\n",
            "9 + = 45\n",
            "10 + = 55\n",
            "11 + = 66\n",
            "12 + = 78\n",
            "13 + = 91\n",
            "14 + = 105\n",
            "15 + = 120\n",
            "16 + = 136\n",
            "17 + = 153\n",
            "18 + = 171\n",
            "19 + = 190\n",
            "20 + = 210\n",
            "21 + = 231\n",
            "22 + = 253\n",
            "23 + = 276\n",
            "24 + = 300\n",
            "25 + = 325\n",
            "26 + = 351\n",
            "27 + = 378\n",
            "28 + = 406\n",
            "29 + = 435\n",
            "30 + = 465\n",
            "31 + = 496\n",
            "32 + = 528\n",
            "33 + = 561\n",
            "34 + = 595\n",
            "35 + = 630\n",
            "36 + = 666\n",
            "37 + = 703\n",
            "38 + = 741\n",
            "39 + = 780\n",
            "40 + = 820\n",
            "41 + = 861\n",
            "42 + = 903\n",
            "43 + = 946\n",
            "44 + = 990\n",
            "45 + = 1035\n",
            "46 + = 1081\n",
            "47 + = 1128\n",
            "48 + = 1176\n",
            "49 + = 1225\n",
            "50 + = 1275\n",
            "51 + = 1326\n",
            "52 + = 1378\n",
            "53 + = 1431\n",
            "54 + = 1485\n",
            "55 + = 1540\n",
            "56 + = 1596\n",
            "57 + = 1653\n",
            "58 + = 1711\n",
            "59 + = 1770\n",
            "60 + = 1830\n",
            "61 + = 1891\n",
            "62 + = 1953\n",
            "63 + = 2016\n",
            "64 + = 2080\n",
            "65 + = 2145\n",
            "66 + = 2211\n",
            "67 + = 2278\n",
            "68 + = 2346\n",
            "69 + = 2415\n",
            "70 + = 2485\n",
            "71 + = 2556\n",
            "72 + = 2628\n",
            "73 + = 2701\n",
            "74 + = 2775\n",
            "75 + = 2850\n",
            "76 + = 2926\n",
            "77 + = 3003\n",
            "78 + = 3081\n",
            "79 + = 3160\n",
            "80 + = 3240\n",
            "81 + = 3321\n",
            "82 + = 3403\n",
            "83 + = 3486\n",
            "84 + = 3570\n",
            "85 + = 3655\n",
            "86 + = 3741\n",
            "87 + = 3828\n",
            "88 + = 3916\n",
            "89 + = 4005\n",
            "90 = 4005\n"
          ]
        }
      ],
      "source": [
        "n=int(input(\"enter the n terms\"))\n",
        "sum=0\n",
        "for i in range (1,n+1):\n",
        "  print(i,end=\" \")\n",
        "  if(i<n):\n",
        "    print(\"+\",end=\" \")\n",
        "    sum=sum+i\n",
        "  print(\"=\",sum) \n"
      ]
    },
    {
      "cell_type": "code",
      "source": [
        "base=int(input(\"enter base\"))\n",
        "exp=int(input(\"enter exponential value:\"))\n",
        "if(exp==1):\n",
        "  print(\"Base=\",base)\n",
        "if(exp!=1):\n",
        "  print(\"exponential of a number is\",base**exp)"
      ],
      "metadata": {
        "colab": {
          "base_uri": "https://localhost:8080/"
        },
        "id": "nSrFBqkJHL7N",
        "outputId": "ad57e9a7-01e5-49d9-ce08-ccb37862d978"
      },
      "execution_count": 7,
      "outputs": [
        {
          "output_type": "stream",
          "name": "stdout",
          "text": [
            "enter base3\n",
            "enter exponential value:2\n",
            "exponential of a number is 9\n"
          ]
        }
      ]
    },
    {
      "cell_type": "code",
      "source": [
        "n=int(input(\"enter a number\"))\n",
        "approx=0.5*n\n",
        "better=0.5*(approx+(n/approx))\n",
        "while better!=approx:\n",
        "  approx=better\n",
        "  better=0.5*(approx+(n/approx))\n",
        "print(\"the square root is\",approx)"
      ],
      "metadata": {
        "colab": {
          "base_uri": "https://localhost:8080/"
        },
        "id": "UvJQ8G3lIgFE",
        "outputId": "8b991cfc-f209-47b2-aff3-1c9bf8d311b3"
      },
      "execution_count": 9,
      "outputs": [
        {
          "output_type": "stream",
          "name": "stdout",
          "text": [
            "enter a number25\n",
            "the square root is 5.0\n"
          ]
        }
      ]
    }
  ]
}