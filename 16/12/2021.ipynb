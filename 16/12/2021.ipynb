{
  "nbformat": 4,
  "nbformat_minor": 0,
  "metadata": {
    "colab": {
      "name": "Untitled2.ipynb",
      "provenance": [],
      "authorship_tag": "ABX9TyPrmvpg0V2l4alj0rpjfF92",
      "include_colab_link": true
    },
    "kernelspec": {
      "name": "python3",
      "display_name": "Python 3"
    },
    "language_info": {
      "name": "python"
    }
  },
  "cells": [
    {
      "cell_type": "markdown",
      "metadata": {
        "id": "view-in-github",
        "colab_type": "text"
      },
      "source": [
        "<a href=\"https://colab.research.google.com/github/nithinthunder/python/blob/main/16/12/2021.ipynb\" target=\"_parent\"><img src=\"https://colab.research.google.com/assets/colab-badge.svg\" alt=\"Open In Colab\"/></a>"
      ]
    },
    {
      "cell_type": "code",
      "execution_count": 13,
      "metadata": {
        "colab": {
          "base_uri": "https://localhost:8080/"
        },
        "id": "X3vX7gIo3ks9",
        "outputId": "9e441883-7a97-4aa3-9b04-1915149f689f"
      },
      "outputs": [
        {
          "output_type": "stream",
          "name": "stdout",
          "text": [
            "    bus             stops\n",
            "0  no.1  sri nagar colony\n",
            "1  no.2     balaji colony\n",
            "2  no.3         M.R.Palli\n"
          ]
        }
      ],
      "source": [
        "import pandas as pd\n",
        "\n",
        "mydata={\n",
        "    'bus':[\"no.1\",\"no.2\",\"no.3\"],\n",
        "    'stops':['sri nagar colony','balaji colony','M.R.Palli']\n",
        "\n",
        "}\n",
        "myvar = pd.DataFrame(mydata)\n",
        "print(myvar)\n"
      ]
    }
  ]
}