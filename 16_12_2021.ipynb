{
  "nbformat": 4,
  "nbformat_minor": 0,
  "metadata": {
    "colab": {
      "name": "16/12/2021.ipynb",
      "provenance": [],
      "authorship_tag": "ABX9TyOzPU9Nk/JjwWk1PrlE9iJY",
      "include_colab_link": true
    },
    "kernelspec": {
      "name": "python3",
      "display_name": "Python 3"
    },
    "language_info": {
      "name": "python"
    }
  },
  "cells": [
    {
      "cell_type": "markdown",
      "metadata": {
        "id": "view-in-github",
        "colab_type": "text"
      },
      "source": [
        "<a href=\"https://colab.research.google.com/github/nithinthunder/python/blob/main/16_12_2021.ipynb\" target=\"_parent\"><img src=\"https://colab.research.google.com/assets/colab-badge.svg\" alt=\"Open In Colab\"/></a>"
      ]
    },
    {
      "cell_type": "code",
      "source": [
        "a='''Transport of gaseous,\n",
        "    reactants to the surface, \n",
        "    Adsortion of gaseous\n",
        "    reactants on the surface'''\n",
        "print(a)\n",
        "print(len(a))\n",
        "print(a[2:20])"
      ],
      "metadata": {
        "colab": {
          "base_uri": "https://localhost:8080/"
        },
        "id": "4JzyXzPk9C0F",
        "outputId": "340c195e-eb6c-4ad2-ed29-98567b7ee8d3"
      },
      "execution_count": 22,
      "outputs": [
        {
          "output_type": "stream",
          "name": "stdout",
          "text": [
            "Transport of gaseous,\n",
            "    reactants to the surface, \n",
            "    Adsortion of gaseous\n",
            "    reactants on the surface\n",
            "106\n",
            "ansport of gaseous\n"
          ]
        }
      ]
    }
  ]
}